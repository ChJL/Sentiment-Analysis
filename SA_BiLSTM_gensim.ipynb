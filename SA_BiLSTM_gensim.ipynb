{
  "nbformat": 4,
  "nbformat_minor": 0,
  "metadata": {
    "colab": {
      "name": "SA_BiLSTM_gensim.ipynb",
      "provenance": []
    },
    "kernelspec": {
      "name": "python3",
      "display_name": "Python 3"
    },
    "accelerator": "GPU"
  },
  "cells": [
    {
      "cell_type": "code",
      "metadata": {
        "id": "LRAiPDGG5P7E"
      },
      "source": [
        "# DataFrame\n",
        "import pandas as pd\n",
        "\n",
        "# Matplot\n",
        "import matplotlib.pyplot as plt\n",
        "%matplotlib inline\n",
        "\n",
        "# Scikit-learn\n",
        "from sklearn.model_selection import train_test_split\n",
        "from sklearn.preprocessing import LabelEncoder\n",
        "from sklearn.metrics import confusion_matrix, classification_report, accuracy_score\n",
        "from sklearn.manifold import TSNE\n",
        "from sklearn.feature_extraction.text import TfidfVectorizer\n",
        "\n",
        "# Keras\n",
        "from keras.preprocessing.text import Tokenizer\n",
        "from keras.preprocessing.sequence import pad_sequences\n",
        "from keras.models import Sequential\n",
        "from keras.layers import Activation, Dense, Dropout, Embedding, Flatten, Conv1D, MaxPooling1D, LSTM\n",
        "from keras import utils\n",
        "from keras.callbacks import ReduceLROnPlateau, EarlyStopping\n",
        "\n",
        "# nltk\n",
        "import nltk\n",
        "from nltk.corpus import stopwords\n",
        "from  nltk.stem import SnowballStemmer\n",
        "\n",
        "# Word2vec\n",
        "import gensim\n",
        "\n",
        "# Utility\n",
        "import re\n",
        "import numpy as np\n",
        "import os\n",
        "from collections import Counter\n",
        "import logging\n",
        "import time\n",
        "import pickle\n",
        "import itertools\n",
        "\n",
        "# Set log\n",
        "logging.basicConfig(format='%(asctime)s : %(levelname)s : %(message)s', level=logging.INFO)"
      ],
      "execution_count": 1,
      "outputs": []
    },
    {
      "cell_type": "code",
      "metadata": {
        "colab": {
          "base_uri": "https://localhost:8080/"
        },
        "id": "m7HPuhxz5lTY",
        "outputId": "73868afe-5e4d-49de-f8cc-74e4f940e609"
      },
      "source": [
        "from google.colab import drive\n",
        "import pandas as pd\n",
        "drive.mount('/content/gdrive') # 此處需要登入google帳號\n",
        "# 獲取授權碼之後輸入即可連動雲端硬碟\n",
        "#data = pd.read_csv(\"/content/gdrive/My Drive/已存在google雲端的檔名\")"
      ],
      "execution_count": 2,
      "outputs": [
        {
          "output_type": "stream",
          "text": [
            "Mounted at /content/gdrive\n"
          ],
          "name": "stdout"
        }
      ]
    },
    {
      "cell_type": "code",
      "metadata": {
        "id": "DmBFIkIP5-_G"
      },
      "source": [
        "data_raw = pd.read_csv(\"/content/gdrive/My Drive/Course/Colab Notebooks/training_1600000.csv\",encoding = \"ISO-8859-1\", header=None)"
      ],
      "execution_count": 6,
      "outputs": []
    },
    {
      "cell_type": "code",
      "metadata": {
        "colab": {
          "base_uri": "https://localhost:8080/",
          "height": 204
        },
        "id": "ocaoskEX6GHb",
        "outputId": "d70a17f4-89d8-453b-901f-cf0c69d6eca3"
      },
      "source": [
        "# As the data has no column titles, we will add our own\n",
        "data_raw.columns = [\"sentiment\", \"time\", \"date\", \"query\", \"username\", \"text\"]\n",
        "\n",
        "# Show the first 5 rows of the dataframe.\n",
        "# You can specify the number of rows to be shown as follows: df_raw.head(10)\n",
        "data_raw.head()"
      ],
      "execution_count": 7,
      "outputs": [
        {
          "output_type": "execute_result",
          "data": {
            "text/html": [
              "<div>\n",
              "<style scoped>\n",
              "    .dataframe tbody tr th:only-of-type {\n",
              "        vertical-align: middle;\n",
              "    }\n",
              "\n",
              "    .dataframe tbody tr th {\n",
              "        vertical-align: top;\n",
              "    }\n",
              "\n",
              "    .dataframe thead th {\n",
              "        text-align: right;\n",
              "    }\n",
              "</style>\n",
              "<table border=\"1\" class=\"dataframe\">\n",
              "  <thead>\n",
              "    <tr style=\"text-align: right;\">\n",
              "      <th></th>\n",
              "      <th>sentiment</th>\n",
              "      <th>time</th>\n",
              "      <th>date</th>\n",
              "      <th>query</th>\n",
              "      <th>username</th>\n",
              "      <th>text</th>\n",
              "    </tr>\n",
              "  </thead>\n",
              "  <tbody>\n",
              "    <tr>\n",
              "      <th>0</th>\n",
              "      <td>0</td>\n",
              "      <td>1467810369</td>\n",
              "      <td>Mon Apr 06 22:19:45 PDT 2009</td>\n",
              "      <td>NO_QUERY</td>\n",
              "      <td>_TheSpecialOne_</td>\n",
              "      <td>@switchfoot http://twitpic.com/2y1zl - Awww, t...</td>\n",
              "    </tr>\n",
              "    <tr>\n",
              "      <th>1</th>\n",
              "      <td>0</td>\n",
              "      <td>1467810672</td>\n",
              "      <td>Mon Apr 06 22:19:49 PDT 2009</td>\n",
              "      <td>NO_QUERY</td>\n",
              "      <td>scotthamilton</td>\n",
              "      <td>is upset that he can't update his Facebook by ...</td>\n",
              "    </tr>\n",
              "    <tr>\n",
              "      <th>2</th>\n",
              "      <td>0</td>\n",
              "      <td>1467810917</td>\n",
              "      <td>Mon Apr 06 22:19:53 PDT 2009</td>\n",
              "      <td>NO_QUERY</td>\n",
              "      <td>mattycus</td>\n",
              "      <td>@Kenichan I dived many times for the ball. Man...</td>\n",
              "    </tr>\n",
              "    <tr>\n",
              "      <th>3</th>\n",
              "      <td>0</td>\n",
              "      <td>1467811184</td>\n",
              "      <td>Mon Apr 06 22:19:57 PDT 2009</td>\n",
              "      <td>NO_QUERY</td>\n",
              "      <td>ElleCTF</td>\n",
              "      <td>my whole body feels itchy and like its on fire</td>\n",
              "    </tr>\n",
              "    <tr>\n",
              "      <th>4</th>\n",
              "      <td>0</td>\n",
              "      <td>1467811193</td>\n",
              "      <td>Mon Apr 06 22:19:57 PDT 2009</td>\n",
              "      <td>NO_QUERY</td>\n",
              "      <td>Karoli</td>\n",
              "      <td>@nationwideclass no, it's not behaving at all....</td>\n",
              "    </tr>\n",
              "  </tbody>\n",
              "</table>\n",
              "</div>"
            ],
            "text/plain": [
              "   sentiment  ...                                               text\n",
              "0          0  ...  @switchfoot http://twitpic.com/2y1zl - Awww, t...\n",
              "1          0  ...  is upset that he can't update his Facebook by ...\n",
              "2          0  ...  @Kenichan I dived many times for the ball. Man...\n",
              "3          0  ...    my whole body feels itchy and like its on fire \n",
              "4          0  ...  @nationwideclass no, it's not behaving at all....\n",
              "\n",
              "[5 rows x 6 columns]"
            ]
          },
          "metadata": {
            "tags": []
          },
          "execution_count": 7
        }
      ]
    },
    {
      "cell_type": "code",
      "metadata": {
        "colab": {
          "base_uri": "https://localhost:8080/",
          "height": 204
        },
        "id": "M4BOA7Ej6I6o",
        "outputId": "86ab8982-cc23-44da-dc7b-8f6522fed07e"
      },
      "source": [
        "data_raw = data_raw.drop([\"time\", \"date\", \"query\", \"username\"], axis=1)\n",
        "data_raw['sentiment'] = data_raw['sentiment'].replace(4,1)\n",
        "data_raw.head()"
      ],
      "execution_count": 8,
      "outputs": [
        {
          "output_type": "execute_result",
          "data": {
            "text/html": [
              "<div>\n",
              "<style scoped>\n",
              "    .dataframe tbody tr th:only-of-type {\n",
              "        vertical-align: middle;\n",
              "    }\n",
              "\n",
              "    .dataframe tbody tr th {\n",
              "        vertical-align: top;\n",
              "    }\n",
              "\n",
              "    .dataframe thead th {\n",
              "        text-align: right;\n",
              "    }\n",
              "</style>\n",
              "<table border=\"1\" class=\"dataframe\">\n",
              "  <thead>\n",
              "    <tr style=\"text-align: right;\">\n",
              "      <th></th>\n",
              "      <th>sentiment</th>\n",
              "      <th>text</th>\n",
              "    </tr>\n",
              "  </thead>\n",
              "  <tbody>\n",
              "    <tr>\n",
              "      <th>0</th>\n",
              "      <td>0</td>\n",
              "      <td>@switchfoot http://twitpic.com/2y1zl - Awww, t...</td>\n",
              "    </tr>\n",
              "    <tr>\n",
              "      <th>1</th>\n",
              "      <td>0</td>\n",
              "      <td>is upset that he can't update his Facebook by ...</td>\n",
              "    </tr>\n",
              "    <tr>\n",
              "      <th>2</th>\n",
              "      <td>0</td>\n",
              "      <td>@Kenichan I dived many times for the ball. Man...</td>\n",
              "    </tr>\n",
              "    <tr>\n",
              "      <th>3</th>\n",
              "      <td>0</td>\n",
              "      <td>my whole body feels itchy and like its on fire</td>\n",
              "    </tr>\n",
              "    <tr>\n",
              "      <th>4</th>\n",
              "      <td>0</td>\n",
              "      <td>@nationwideclass no, it's not behaving at all....</td>\n",
              "    </tr>\n",
              "  </tbody>\n",
              "</table>\n",
              "</div>"
            ],
            "text/plain": [
              "   sentiment                                               text\n",
              "0          0  @switchfoot http://twitpic.com/2y1zl - Awww, t...\n",
              "1          0  is upset that he can't update his Facebook by ...\n",
              "2          0  @Kenichan I dived many times for the ball. Man...\n",
              "3          0    my whole body feels itchy and like its on fire \n",
              "4          0  @nationwideclass no, it's not behaving at all...."
            ]
          },
          "metadata": {
            "tags": []
          },
          "execution_count": 8
        }
      ]
    },
    {
      "cell_type": "code",
      "metadata": {
        "id": "1KiQHQeV6vUn"
      },
      "source": [
        "# split a sample dataset, using smaller csv to train first\n",
        "drop_item=data_raw.sample(frac=0.5,random_state=200) #random state is a seed value\n",
        "dataset=data_raw.drop(drop_item.index)"
      ],
      "execution_count": 9,
      "outputs": []
    },
    {
      "cell_type": "code",
      "metadata": {
        "colab": {
          "base_uri": "https://localhost:8080/"
        },
        "id": "ZXbSJ7yg8pRE",
        "outputId": "b49d61e3-b5de-44e1-855a-ebbaa4d1940a"
      },
      "source": [
        "dataset['sentiment'].value_counts()"
      ],
      "execution_count": 10,
      "outputs": [
        {
          "output_type": "execute_result",
          "data": {
            "text/plain": [
              "1    400239\n",
              "0    399761\n",
              "Name: sentiment, dtype: int64"
            ]
          },
          "metadata": {
            "tags": []
          },
          "execution_count": 10
        }
      ]
    },
    {
      "cell_type": "code",
      "metadata": {
        "id": "Oo0EiUCH8vxu"
      },
      "source": [
        ""
      ],
      "execution_count": null,
      "outputs": []
    },
    {
      "cell_type": "markdown",
      "metadata": {
        "id": "finrM8wS8334"
      },
      "source": [
        "## Preprocess the text"
      ]
    },
    {
      "cell_type": "code",
      "metadata": {
        "id": "AuVCveQn871y"
      },
      "source": [
        "# Reading contractions.csv and storing it as a dict.\n",
        "contractions = pd.read_csv('/content/gdrive/My Drive/Course/Colab Notebooks/contractions.csv', index_col='Contraction')\n",
        "contractions.index = contractions.index.str.lower()\n",
        "contractions.Meaning = contractions.Meaning.str.lower()\n",
        "contractions_dict = contractions.to_dict()['Meaning']\n",
        "\n",
        "# Defining regex patterns.\n",
        "urlPattern        = r\"((http://)[^ ]*|(https://)[^ ]*|(www\\.)[^ ]*)\"\n",
        "userPattern       = '@[^\\s]+'\n",
        "hashtagPattern    = '#[^\\s]+'\n",
        "alphaPattern      = \"[^a-z0-9<>]\"\n",
        "sequencePattern   = r\"(.)\\1\\1+\"\n",
        "seqReplacePattern = r\"\\1\\1\"\n",
        "\n",
        "# Defining regex for emojis\n",
        "smileemoji        = r\"[8:=;]['`\\-]?[)d]+\"\n",
        "sademoji          = r\"[8:=;]['`\\-]?\\(+\"\n",
        "neutralemoji      = r\"[8:=;]['`\\-]?[\\/|l*]\"\n",
        "lolemoji          = r\"[8:=;]['`\\-]?p+\"\n",
        "\n",
        "def preprocess_apply(tweet):\n",
        "\n",
        "    tweet = tweet.lower()\n",
        "\n",
        "    # Replace all URls with '<url>'\n",
        "    tweet = re.sub(urlPattern,'<url>',tweet)\n",
        "    # Replace @USERNAME to '<user>'.\n",
        "    tweet = re.sub(userPattern,'<user>', tweet)\n",
        "    # Replace #Hashtags to '<hashtags>'.\n",
        "    tweet = re.sub(userPattern,'<hashtag>', tweet)\n",
        "    \n",
        "    # Replace 3 or more consecutive letters by 2 letter.\n",
        "    tweet = re.sub(sequencePattern, seqReplacePattern, tweet)\n",
        "\n",
        "    # Replace all emojis.\n",
        "    tweet = re.sub(r'<3', '<heart>', tweet)\n",
        "    tweet = re.sub(smileemoji, '<smile>', tweet)\n",
        "    tweet = re.sub(sademoji, '<sadface>', tweet)\n",
        "    tweet = re.sub(neutralemoji, '<neutralface>', tweet)\n",
        "    tweet = re.sub(lolemoji, '<lolface>', tweet)\n",
        "\n",
        "    for contraction, replacement in contractions_dict.items():\n",
        "        tweet = tweet.replace(contraction, replacement)\n",
        "\n",
        "    # Remove non-alphanumeric and symbols\n",
        "    tweet = re.sub(alphaPattern, ' ', tweet)\n",
        "\n",
        "    # Adding space on either side of '/' to seperate words (After replacing URLS).\n",
        "    tweet = re.sub(r'/', ' / ', tweet)\n",
        "    return tweet"
      ],
      "execution_count": 11,
      "outputs": []
    },
    {
      "cell_type": "code",
      "metadata": {
        "colab": {
          "base_uri": "https://localhost:8080/"
        },
        "id": "hAOaEHgx9DJl",
        "outputId": "4c58a74d-ea33-42f3-802f-e24be46a8555"
      },
      "source": [
        "%%time\n",
        "dataset['processed_text'] = dataset.text.apply(preprocess_apply)"
      ],
      "execution_count": 12,
      "outputs": [
        {
          "output_type": "stream",
          "text": [
            "CPU times: user 41.6 s, sys: 84.6 ms, total: 41.6 s\n",
            "Wall time: 41.7 s\n"
          ],
          "name": "stdout"
        }
      ]
    },
    {
      "cell_type": "code",
      "metadata": {
        "id": "A8VpBHC1-L57"
      },
      "source": [
        ""
      ],
      "execution_count": null,
      "outputs": []
    },
    {
      "cell_type": "markdown",
      "metadata": {
        "id": "EOsuNvSj-mtV"
      },
      "source": [
        "### Split the dataset"
      ]
    },
    {
      "cell_type": "code",
      "metadata": {
        "colab": {
          "base_uri": "https://localhost:8080/"
        },
        "id": "0LHT5-um-peL",
        "outputId": "e29832e7-a32d-48fc-8c05-9a9ad34ac851"
      },
      "source": [
        "from sklearn.model_selection import train_test_split\n",
        "\n",
        "X_data, y_data = np.array(dataset['processed_text']), np.array(dataset['sentiment'])\n",
        "\n",
        "X_train, X_test, y_train, y_test = train_test_split(X_data, y_data,\n",
        "                                                    test_size = 0.05, random_state = 0)\n",
        "print('Data Split done.')"
      ],
      "execution_count": 13,
      "outputs": [
        {
          "output_type": "stream",
          "text": [
            "Data Split done.\n"
          ],
          "name": "stdout"
        }
      ]
    },
    {
      "cell_type": "code",
      "metadata": {
        "id": "GMU6Y55z-uL8"
      },
      "source": [
        "from gensim.models import Word2Vec\n",
        "\n",
        "Embedding_dimensions = 100\n",
        "\n",
        "# Creating Word2Vec training dataset.\n",
        "Word2vec_train_data = list(map(lambda x: x.split(), X_train))"
      ],
      "execution_count": 14,
      "outputs": []
    },
    {
      "cell_type": "code",
      "metadata": {
        "colab": {
          "base_uri": "https://localhost:8080/"
        },
        "id": "W4mOeckI-31r",
        "outputId": "45227cd9-4226-4009-bd45-1edf1007ddc5"
      },
      "source": [
        "%%time\n",
        "\n",
        "# Defining the model and training it.\n",
        "word2vec_model = Word2Vec(Word2vec_train_data,\n",
        "                 size=Embedding_dimensions,\n",
        "                 workers=8,\n",
        "                 min_count=5)\n",
        "\n",
        "print(\"Vocabulary Length:\", len(word2vec_model.wv.vocab))"
      ],
      "execution_count": 15,
      "outputs": [
        {
          "output_type": "stream",
          "text": [
            "2020-12-02 10:25:39,971 : INFO : collecting all words and their counts\n",
            "2020-12-02 10:25:39,972 : INFO : PROGRESS: at sentence #0, processed 0 words, keeping 0 word types\n",
            "2020-12-02 10:25:40,008 : INFO : PROGRESS: at sentence #10000, processed 136043 words, keeping 13479 word types\n",
            "2020-12-02 10:25:40,038 : INFO : PROGRESS: at sentence #20000, processed 272741 words, keeping 20567 word types\n",
            "2020-12-02 10:25:40,071 : INFO : PROGRESS: at sentence #30000, processed 409776 words, keeping 26350 word types\n",
            "2020-12-02 10:25:40,103 : INFO : PROGRESS: at sentence #40000, processed 545191 words, keeping 30997 word types\n",
            "2020-12-02 10:25:40,133 : INFO : PROGRESS: at sentence #50000, processed 681953 words, keeping 35315 word types\n",
            "2020-12-02 10:25:40,167 : INFO : PROGRESS: at sentence #60000, processed 818062 words, keeping 39214 word types\n",
            "2020-12-02 10:25:40,204 : INFO : PROGRESS: at sentence #70000, processed 954447 words, keeping 42850 word types\n",
            "2020-12-02 10:25:40,236 : INFO : PROGRESS: at sentence #80000, processed 1090235 words, keeping 46414 word types\n",
            "2020-12-02 10:25:40,271 : INFO : PROGRESS: at sentence #90000, processed 1226100 words, keeping 49665 word types\n",
            "2020-12-02 10:25:40,303 : INFO : PROGRESS: at sentence #100000, processed 1363339 words, keeping 52814 word types\n",
            "2020-12-02 10:25:40,335 : INFO : PROGRESS: at sentence #110000, processed 1498461 words, keeping 55903 word types\n",
            "2020-12-02 10:25:40,366 : INFO : PROGRESS: at sentence #120000, processed 1635232 words, keeping 58875 word types\n",
            "2020-12-02 10:25:40,398 : INFO : PROGRESS: at sentence #130000, processed 1771126 words, keeping 61804 word types\n",
            "2020-12-02 10:25:40,430 : INFO : PROGRESS: at sentence #140000, processed 1907465 words, keeping 64427 word types\n",
            "2020-12-02 10:25:40,461 : INFO : PROGRESS: at sentence #150000, processed 2042196 words, keeping 67061 word types\n",
            "2020-12-02 10:25:40,493 : INFO : PROGRESS: at sentence #160000, processed 2178963 words, keeping 69610 word types\n",
            "2020-12-02 10:25:40,527 : INFO : PROGRESS: at sentence #170000, processed 2315006 words, keeping 72143 word types\n",
            "2020-12-02 10:25:40,561 : INFO : PROGRESS: at sentence #180000, processed 2449809 words, keeping 74609 word types\n",
            "2020-12-02 10:25:40,595 : INFO : PROGRESS: at sentence #190000, processed 2586326 words, keeping 77074 word types\n",
            "2020-12-02 10:25:40,627 : INFO : PROGRESS: at sentence #200000, processed 2722892 words, keeping 79522 word types\n",
            "2020-12-02 10:25:40,659 : INFO : PROGRESS: at sentence #210000, processed 2859197 words, keeping 81851 word types\n",
            "2020-12-02 10:25:40,691 : INFO : PROGRESS: at sentence #220000, processed 2995370 words, keeping 84121 word types\n",
            "2020-12-02 10:25:40,723 : INFO : PROGRESS: at sentence #230000, processed 3131311 words, keeping 86357 word types\n",
            "2020-12-02 10:25:40,757 : INFO : PROGRESS: at sentence #240000, processed 3267772 words, keeping 88547 word types\n",
            "2020-12-02 10:25:40,790 : INFO : PROGRESS: at sentence #250000, processed 3403245 words, keeping 90739 word types\n",
            "2020-12-02 10:25:40,821 : INFO : PROGRESS: at sentence #260000, processed 3540603 words, keeping 92809 word types\n",
            "2020-12-02 10:25:40,852 : INFO : PROGRESS: at sentence #270000, processed 3677008 words, keeping 94907 word types\n",
            "2020-12-02 10:25:40,886 : INFO : PROGRESS: at sentence #280000, processed 3812865 words, keeping 96813 word types\n",
            "2020-12-02 10:25:40,920 : INFO : PROGRESS: at sentence #290000, processed 3949703 words, keeping 98750 word types\n",
            "2020-12-02 10:25:40,951 : INFO : PROGRESS: at sentence #300000, processed 4086791 words, keeping 100709 word types\n",
            "2020-12-02 10:25:40,985 : INFO : PROGRESS: at sentence #310000, processed 4223061 words, keeping 102694 word types\n",
            "2020-12-02 10:25:41,016 : INFO : PROGRESS: at sentence #320000, processed 4358088 words, keeping 104657 word types\n",
            "2020-12-02 10:25:41,047 : INFO : PROGRESS: at sentence #330000, processed 4493901 words, keeping 106612 word types\n",
            "2020-12-02 10:25:41,078 : INFO : PROGRESS: at sentence #340000, processed 4629298 words, keeping 108589 word types\n",
            "2020-12-02 10:25:41,110 : INFO : PROGRESS: at sentence #350000, processed 4765559 words, keeping 110480 word types\n",
            "2020-12-02 10:25:41,142 : INFO : PROGRESS: at sentence #360000, processed 4901682 words, keeping 112443 word types\n",
            "2020-12-02 10:25:41,178 : INFO : PROGRESS: at sentence #370000, processed 5036377 words, keeping 114349 word types\n",
            "2020-12-02 10:25:41,217 : INFO : PROGRESS: at sentence #380000, processed 5171139 words, keeping 116141 word types\n",
            "2020-12-02 10:25:41,248 : INFO : PROGRESS: at sentence #390000, processed 5308313 words, keeping 117929 word types\n",
            "2020-12-02 10:25:41,282 : INFO : PROGRESS: at sentence #400000, processed 5443669 words, keeping 119708 word types\n",
            "2020-12-02 10:25:41,315 : INFO : PROGRESS: at sentence #410000, processed 5580776 words, keeping 121462 word types\n",
            "2020-12-02 10:25:41,348 : INFO : PROGRESS: at sentence #420000, processed 5716937 words, keeping 123167 word types\n",
            "2020-12-02 10:25:41,380 : INFO : PROGRESS: at sentence #430000, processed 5853652 words, keeping 124911 word types\n",
            "2020-12-02 10:25:41,411 : INFO : PROGRESS: at sentence #440000, processed 5988645 words, keeping 126638 word types\n",
            "2020-12-02 10:25:41,444 : INFO : PROGRESS: at sentence #450000, processed 6125281 words, keeping 128262 word types\n",
            "2020-12-02 10:25:41,476 : INFO : PROGRESS: at sentence #460000, processed 6261752 words, keeping 130053 word types\n",
            "2020-12-02 10:25:41,509 : INFO : PROGRESS: at sentence #470000, processed 6397163 words, keeping 131690 word types\n",
            "2020-12-02 10:25:41,539 : INFO : PROGRESS: at sentence #480000, processed 6534077 words, keeping 133328 word types\n",
            "2020-12-02 10:25:41,574 : INFO : PROGRESS: at sentence #490000, processed 6670822 words, keeping 134971 word types\n",
            "2020-12-02 10:25:41,608 : INFO : PROGRESS: at sentence #500000, processed 6805783 words, keeping 136589 word types\n",
            "2020-12-02 10:25:41,640 : INFO : PROGRESS: at sentence #510000, processed 6941692 words, keeping 138172 word types\n",
            "2020-12-02 10:25:41,675 : INFO : PROGRESS: at sentence #520000, processed 7076900 words, keeping 139643 word types\n",
            "2020-12-02 10:25:41,708 : INFO : PROGRESS: at sentence #530000, processed 7214773 words, keeping 141263 word types\n",
            "2020-12-02 10:25:41,739 : INFO : PROGRESS: at sentence #540000, processed 7350011 words, keeping 142770 word types\n",
            "2020-12-02 10:25:41,773 : INFO : PROGRESS: at sentence #550000, processed 7484721 words, keeping 144333 word types\n",
            "2020-12-02 10:25:41,805 : INFO : PROGRESS: at sentence #560000, processed 7619617 words, keeping 145768 word types\n",
            "2020-12-02 10:25:41,838 : INFO : PROGRESS: at sentence #570000, processed 7755225 words, keeping 147268 word types\n",
            "2020-12-02 10:25:41,870 : INFO : PROGRESS: at sentence #580000, processed 7890950 words, keeping 148831 word types\n",
            "2020-12-02 10:25:41,900 : INFO : PROGRESS: at sentence #590000, processed 8025496 words, keeping 150402 word types\n",
            "2020-12-02 10:25:41,934 : INFO : PROGRESS: at sentence #600000, processed 8163127 words, keeping 151878 word types\n",
            "2020-12-02 10:25:41,968 : INFO : PROGRESS: at sentence #610000, processed 8298680 words, keeping 153298 word types\n",
            "2020-12-02 10:25:42,001 : INFO : PROGRESS: at sentence #620000, processed 8435740 words, keeping 154758 word types\n",
            "2020-12-02 10:25:42,034 : INFO : PROGRESS: at sentence #630000, processed 8571076 words, keeping 156227 word types\n",
            "2020-12-02 10:25:42,066 : INFO : PROGRESS: at sentence #640000, processed 8706436 words, keeping 157685 word types\n",
            "2020-12-02 10:25:42,098 : INFO : PROGRESS: at sentence #650000, processed 8842706 words, keeping 159142 word types\n",
            "2020-12-02 10:25:42,130 : INFO : PROGRESS: at sentence #660000, processed 8978855 words, keeping 160576 word types\n",
            "2020-12-02 10:25:42,162 : INFO : PROGRESS: at sentence #670000, processed 9115316 words, keeping 162003 word types\n",
            "2020-12-02 10:25:42,194 : INFO : PROGRESS: at sentence #680000, processed 9252280 words, keeping 163385 word types\n",
            "2020-12-02 10:25:42,230 : INFO : PROGRESS: at sentence #690000, processed 9388910 words, keeping 164864 word types\n",
            "2020-12-02 10:25:42,263 : INFO : PROGRESS: at sentence #700000, processed 9524370 words, keeping 166264 word types\n",
            "2020-12-02 10:25:42,296 : INFO : PROGRESS: at sentence #710000, processed 9660773 words, keeping 167769 word types\n",
            "2020-12-02 10:25:42,327 : INFO : PROGRESS: at sentence #720000, processed 9797411 words, keeping 169185 word types\n",
            "2020-12-02 10:25:42,361 : INFO : PROGRESS: at sentence #730000, processed 9932725 words, keeping 170564 word types\n",
            "2020-12-02 10:25:42,394 : INFO : PROGRESS: at sentence #740000, processed 10068839 words, keeping 171984 word types\n",
            "2020-12-02 10:25:42,427 : INFO : PROGRESS: at sentence #750000, processed 10204094 words, keeping 173309 word types\n",
            "2020-12-02 10:25:42,458 : INFO : collected 174682 word types from a corpus of 10339058 raw words and 760000 sentences\n",
            "2020-12-02 10:25:42,458 : INFO : Loading a fresh vocabulary\n",
            "2020-12-02 10:25:42,574 : INFO : effective_min_count=5 retains 34851 unique words (19% of original 174682, drops 139831)\n",
            "2020-12-02 10:25:42,575 : INFO : effective_min_count=5 leaves 10140860 word corpus (98% of original 10339058, drops 198198)\n",
            "2020-12-02 10:25:42,689 : INFO : deleting the raw counts dictionary of 174682 items\n",
            "2020-12-02 10:25:42,694 : INFO : sample=0.001 downsamples 56 most-common words\n",
            "2020-12-02 10:25:42,694 : INFO : downsampling leaves estimated 7592124 word corpus (74.9% of prior 10140860)\n",
            "2020-12-02 10:25:42,792 : INFO : estimated required memory for 34851 words and 100 dimensions: 45306300 bytes\n",
            "2020-12-02 10:25:42,792 : INFO : resetting layer weights\n",
            "2020-12-02 10:25:49,370 : INFO : training model with 8 workers on 34851 vocabulary and 100 features, using sg=0 hs=0 sample=0.001 negative=5 window=5\n",
            "2020-12-02 10:25:50,395 : INFO : EPOCH 1 - PROGRESS: at 7.33% examples, 550221 words/s, in_qsize 16, out_qsize 0\n",
            "2020-12-02 10:25:51,402 : INFO : EPOCH 1 - PROGRESS: at 15.53% examples, 584573 words/s, in_qsize 16, out_qsize 0\n",
            "2020-12-02 10:25:52,405 : INFO : EPOCH 1 - PROGRESS: at 22.98% examples, 577687 words/s, in_qsize 14, out_qsize 6\n",
            "2020-12-02 10:25:53,406 : INFO : EPOCH 1 - PROGRESS: at 30.99% examples, 585127 words/s, in_qsize 12, out_qsize 3\n",
            "2020-12-02 10:25:54,466 : INFO : EPOCH 1 - PROGRESS: at 39.27% examples, 588427 words/s, in_qsize 16, out_qsize 5\n",
            "2020-12-02 10:25:55,470 : INFO : EPOCH 1 - PROGRESS: at 47.41% examples, 591788 words/s, in_qsize 13, out_qsize 2\n",
            "2020-12-02 10:25:56,472 : INFO : EPOCH 1 - PROGRESS: at 55.24% examples, 591916 words/s, in_qsize 15, out_qsize 1\n",
            "2020-12-02 10:25:57,490 : INFO : EPOCH 1 - PROGRESS: at 63.06% examples, 591250 words/s, in_qsize 15, out_qsize 0\n",
            "2020-12-02 10:25:58,497 : INFO : EPOCH 1 - PROGRESS: at 71.18% examples, 593231 words/s, in_qsize 16, out_qsize 1\n",
            "2020-12-02 10:25:59,527 : INFO : EPOCH 1 - PROGRESS: at 79.44% examples, 594407 words/s, in_qsize 16, out_qsize 1\n",
            "2020-12-02 10:26:00,544 : INFO : EPOCH 1 - PROGRESS: at 86.87% examples, 590954 words/s, in_qsize 12, out_qsize 3\n",
            "2020-12-02 10:26:01,606 : INFO : EPOCH 1 - PROGRESS: at 95.36% examples, 592314 words/s, in_qsize 14, out_qsize 1\n",
            "2020-12-02 10:26:02,081 : INFO : worker thread finished; awaiting finish of 7 more threads\n",
            "2020-12-02 10:26:02,082 : INFO : worker thread finished; awaiting finish of 6 more threads\n",
            "2020-12-02 10:26:02,083 : INFO : worker thread finished; awaiting finish of 5 more threads\n",
            "2020-12-02 10:26:02,108 : INFO : worker thread finished; awaiting finish of 4 more threads\n",
            "2020-12-02 10:26:02,115 : INFO : worker thread finished; awaiting finish of 3 more threads\n",
            "2020-12-02 10:26:02,119 : INFO : worker thread finished; awaiting finish of 2 more threads\n",
            "2020-12-02 10:26:02,124 : INFO : worker thread finished; awaiting finish of 1 more threads\n",
            "2020-12-02 10:26:02,126 : INFO : worker thread finished; awaiting finish of 0 more threads\n",
            "2020-12-02 10:26:02,126 : INFO : EPOCH - 1 : training on 10339058 raw words (7591428 effective words) took 12.7s, 595657 effective words/s\n",
            "2020-12-02 10:26:03,219 : INFO : EPOCH 2 - PROGRESS: at 7.81% examples, 559264 words/s, in_qsize 15, out_qsize 1\n",
            "2020-12-02 10:26:04,221 : INFO : EPOCH 2 - PROGRESS: at 15.53% examples, 567398 words/s, in_qsize 16, out_qsize 6\n",
            "2020-12-02 10:26:05,240 : INFO : EPOCH 2 - PROGRESS: at 24.05% examples, 589282 words/s, in_qsize 15, out_qsize 0\n",
            "2020-12-02 10:26:06,243 : INFO : EPOCH 2 - PROGRESS: at 31.96% examples, 591858 words/s, in_qsize 14, out_qsize 1\n",
            "2020-12-02 10:26:07,258 : INFO : EPOCH 2 - PROGRESS: at 39.85% examples, 592064 words/s, in_qsize 15, out_qsize 0\n",
            "2020-12-02 10:26:08,290 : INFO : EPOCH 2 - PROGRESS: at 47.89% examples, 591684 words/s, in_qsize 15, out_qsize 0\n",
            "2020-12-02 10:26:09,298 : INFO : EPOCH 2 - PROGRESS: at 56.11% examples, 595485 words/s, in_qsize 14, out_qsize 0\n",
            "2020-12-02 10:26:10,356 : INFO : EPOCH 2 - PROGRESS: at 64.22% examples, 593811 words/s, in_qsize 16, out_qsize 1\n",
            "2020-12-02 10:26:11,420 : INFO : EPOCH 2 - PROGRESS: at 72.65% examples, 594496 words/s, in_qsize 15, out_qsize 0\n",
            "2020-12-02 10:26:12,431 : INFO : EPOCH 2 - PROGRESS: at 80.49% examples, 593814 words/s, in_qsize 14, out_qsize 1\n",
            "2020-12-02 10:26:13,442 : INFO : EPOCH 2 - PROGRESS: at 88.79% examples, 596543 words/s, in_qsize 16, out_qsize 1\n",
            "2020-12-02 10:26:14,477 : INFO : EPOCH 2 - PROGRESS: at 96.62% examples, 594663 words/s, in_qsize 15, out_qsize 0\n",
            "2020-12-02 10:26:14,796 : INFO : worker thread finished; awaiting finish of 7 more threads\n",
            "2020-12-02 10:26:14,805 : INFO : worker thread finished; awaiting finish of 6 more threads\n",
            "2020-12-02 10:26:14,810 : INFO : worker thread finished; awaiting finish of 5 more threads\n",
            "2020-12-02 10:26:14,814 : INFO : worker thread finished; awaiting finish of 4 more threads\n",
            "2020-12-02 10:26:14,819 : INFO : worker thread finished; awaiting finish of 3 more threads\n",
            "2020-12-02 10:26:14,838 : INFO : worker thread finished; awaiting finish of 2 more threads\n",
            "2020-12-02 10:26:14,841 : INFO : worker thread finished; awaiting finish of 1 more threads\n",
            "2020-12-02 10:26:14,844 : INFO : worker thread finished; awaiting finish of 0 more threads\n",
            "2020-12-02 10:26:14,845 : INFO : EPOCH - 2 : training on 10339058 raw words (7592387 effective words) took 12.7s, 597541 effective words/s\n",
            "2020-12-02 10:26:15,907 : INFO : EPOCH 3 - PROGRESS: at 7.52% examples, 556350 words/s, in_qsize 16, out_qsize 4\n",
            "2020-12-02 10:26:16,905 : INFO : EPOCH 3 - PROGRESS: at 15.72% examples, 584110 words/s, in_qsize 15, out_qsize 3\n",
            "2020-12-02 10:26:17,919 : INFO : EPOCH 3 - PROGRESS: at 23.67% examples, 587144 words/s, in_qsize 15, out_qsize 1\n",
            "2020-12-02 10:26:18,921 : INFO : EPOCH 3 - PROGRESS: at 32.06% examples, 599453 words/s, in_qsize 16, out_qsize 0\n",
            "2020-12-02 10:26:19,922 : INFO : EPOCH 3 - PROGRESS: at 39.85% examples, 598284 words/s, in_qsize 15, out_qsize 0\n",
            "2020-12-02 10:26:20,948 : INFO : EPOCH 3 - PROGRESS: at 47.60% examples, 593848 words/s, in_qsize 15, out_qsize 0\n",
            "2020-12-02 10:26:21,952 : INFO : EPOCH 3 - PROGRESS: at 55.72% examples, 596659 words/s, in_qsize 14, out_qsize 1\n",
            "2020-12-02 10:26:23,024 : INFO : EPOCH 3 - PROGRESS: at 63.93% examples, 594710 words/s, in_qsize 16, out_qsize 0\n",
            "2020-12-02 10:26:24,041 : INFO : EPOCH 3 - PROGRESS: at 72.16% examples, 596674 words/s, in_qsize 15, out_qsize 0\n",
            "2020-12-02 10:26:25,076 : INFO : EPOCH 3 - PROGRESS: at 80.30% examples, 596498 words/s, in_qsize 14, out_qsize 1\n",
            "2020-12-02 10:26:26,084 : INFO : EPOCH 3 - PROGRESS: at 88.50% examples, 598595 words/s, in_qsize 16, out_qsize 1\n",
            "2020-12-02 10:26:27,096 : INFO : EPOCH 3 - PROGRESS: at 96.14% examples, 596407 words/s, in_qsize 15, out_qsize 0\n",
            "2020-12-02 10:26:27,474 : INFO : worker thread finished; awaiting finish of 7 more threads\n",
            "2020-12-02 10:26:27,478 : INFO : worker thread finished; awaiting finish of 6 more threads\n",
            "2020-12-02 10:26:27,484 : INFO : worker thread finished; awaiting finish of 5 more threads\n",
            "2020-12-02 10:26:27,497 : INFO : worker thread finished; awaiting finish of 4 more threads\n",
            "2020-12-02 10:26:27,499 : INFO : worker thread finished; awaiting finish of 3 more threads\n",
            "2020-12-02 10:26:27,500 : INFO : worker thread finished; awaiting finish of 2 more threads\n",
            "2020-12-02 10:26:27,501 : INFO : worker thread finished; awaiting finish of 1 more threads\n",
            "2020-12-02 10:26:27,513 : INFO : worker thread finished; awaiting finish of 0 more threads\n",
            "2020-12-02 10:26:27,514 : INFO : EPOCH - 3 : training on 10339058 raw words (7591303 effective words) took 12.7s, 599811 effective words/s\n",
            "2020-12-02 10:26:28,531 : INFO : EPOCH 4 - PROGRESS: at 7.32% examples, 555195 words/s, in_qsize 15, out_qsize 3\n",
            "2020-12-02 10:26:29,536 : INFO : EPOCH 4 - PROGRESS: at 15.24% examples, 576219 words/s, in_qsize 14, out_qsize 1\n",
            "2020-12-02 10:26:30,590 : INFO : EPOCH 4 - PROGRESS: at 23.56% examples, 587508 words/s, in_qsize 15, out_qsize 0\n",
            "2020-12-02 10:26:31,579 : INFO : EPOCH 4 - PROGRESS: at 31.58% examples, 591737 words/s, in_qsize 16, out_qsize 0\n",
            "2020-12-02 10:26:32,584 : INFO : EPOCH 4 - PROGRESS: at 39.56% examples, 594780 words/s, in_qsize 15, out_qsize 0\n",
            "2020-12-02 10:26:33,590 : INFO : EPOCH 4 - PROGRESS: at 47.21% examples, 591580 words/s, in_qsize 13, out_qsize 2\n",
            "2020-12-02 10:26:34,592 : INFO : EPOCH 4 - PROGRESS: at 55.05% examples, 591716 words/s, in_qsize 14, out_qsize 1\n",
            "2020-12-02 10:26:35,600 : INFO : EPOCH 4 - PROGRESS: at 63.07% examples, 593271 words/s, in_qsize 15, out_qsize 0\n",
            "2020-12-02 10:26:36,607 : INFO : EPOCH 4 - PROGRESS: at 71.28% examples, 596172 words/s, in_qsize 13, out_qsize 2\n",
            "2020-12-02 10:26:37,612 : INFO : EPOCH 4 - PROGRESS: at 79.14% examples, 595640 words/s, in_qsize 15, out_qsize 0\n",
            "2020-12-02 10:26:38,670 : INFO : EPOCH 4 - PROGRESS: at 87.55% examples, 596406 words/s, in_qsize 13, out_qsize 2\n",
            "2020-12-02 10:26:39,671 : INFO : EPOCH 4 - PROGRESS: at 95.65% examples, 597976 words/s, in_qsize 15, out_qsize 0\n",
            "2020-12-02 10:26:40,120 : INFO : worker thread finished; awaiting finish of 7 more threads\n",
            "2020-12-02 10:26:40,144 : INFO : worker thread finished; awaiting finish of 6 more threads\n",
            "2020-12-02 10:26:40,165 : INFO : worker thread finished; awaiting finish of 5 more threads\n",
            "2020-12-02 10:26:40,170 : INFO : worker thread finished; awaiting finish of 4 more threads\n",
            "2020-12-02 10:26:40,174 : INFO : worker thread finished; awaiting finish of 3 more threads\n",
            "2020-12-02 10:26:40,181 : INFO : worker thread finished; awaiting finish of 2 more threads\n",
            "2020-12-02 10:26:40,183 : INFO : worker thread finished; awaiting finish of 1 more threads\n",
            "2020-12-02 10:26:40,184 : INFO : worker thread finished; awaiting finish of 0 more threads\n",
            "2020-12-02 10:26:40,185 : INFO : EPOCH - 4 : training on 10339058 raw words (7591887 effective words) took 12.7s, 599681 effective words/s\n",
            "2020-12-02 10:26:41,205 : INFO : EPOCH 5 - PROGRESS: at 7.32% examples, 554787 words/s, in_qsize 14, out_qsize 3\n",
            "2020-12-02 10:26:42,260 : INFO : EPOCH 5 - PROGRESS: at 15.53% examples, 573441 words/s, in_qsize 12, out_qsize 3\n",
            "2020-12-02 10:26:43,295 : INFO : EPOCH 5 - PROGRESS: at 24.24% examples, 595018 words/s, in_qsize 14, out_qsize 1\n",
            "2020-12-02 10:26:44,300 : INFO : EPOCH 5 - PROGRESS: at 32.25% examples, 597696 words/s, in_qsize 16, out_qsize 0\n",
            "2020-12-02 10:26:45,335 : INFO : EPOCH 5 - PROGRESS: at 40.34% examples, 597493 words/s, in_qsize 15, out_qsize 0\n",
            "2020-12-02 10:26:46,343 : INFO : EPOCH 5 - PROGRESS: at 48.58% examples, 600828 words/s, in_qsize 16, out_qsize 0\n",
            "2020-12-02 10:26:47,408 : INFO : EPOCH 5 - PROGRESS: at 56.59% examples, 597126 words/s, in_qsize 15, out_qsize 3\n",
            "2020-12-02 10:26:48,463 : INFO : EPOCH 5 - PROGRESS: at 64.80% examples, 595827 words/s, in_qsize 10, out_qsize 5\n",
            "2020-12-02 10:26:49,467 : INFO : EPOCH 5 - PROGRESS: at 72.94% examples, 597677 words/s, in_qsize 15, out_qsize 1\n",
            "2020-12-02 10:26:50,484 : INFO : EPOCH 5 - PROGRESS: at 81.16% examples, 599200 words/s, in_qsize 15, out_qsize 0\n",
            "2020-12-02 10:26:51,497 : INFO : EPOCH 5 - PROGRESS: at 88.99% examples, 598115 words/s, in_qsize 11, out_qsize 4\n",
            "2020-12-02 10:26:52,547 : INFO : EPOCH 5 - PROGRESS: at 97.49% examples, 599480 words/s, in_qsize 15, out_qsize 0\n",
            "2020-12-02 10:26:52,735 : INFO : worker thread finished; awaiting finish of 7 more threads\n",
            "2020-12-02 10:26:52,758 : INFO : worker thread finished; awaiting finish of 6 more threads\n",
            "2020-12-02 10:26:52,788 : INFO : worker thread finished; awaiting finish of 5 more threads\n",
            "2020-12-02 10:26:52,794 : INFO : worker thread finished; awaiting finish of 4 more threads\n",
            "2020-12-02 10:26:52,796 : INFO : worker thread finished; awaiting finish of 3 more threads\n",
            "2020-12-02 10:26:52,802 : INFO : worker thread finished; awaiting finish of 2 more threads\n",
            "2020-12-02 10:26:52,803 : INFO : worker thread finished; awaiting finish of 1 more threads\n",
            "2020-12-02 10:26:52,812 : INFO : worker thread finished; awaiting finish of 0 more threads\n",
            "2020-12-02 10:26:52,813 : INFO : EPOCH - 5 : training on 10339058 raw words (7591997 effective words) took 12.6s, 601869 effective words/s\n",
            "2020-12-02 10:26:52,814 : INFO : training on a 51695290 raw words (37959002 effective words) took 63.4s, 598313 effective words/s\n"
          ],
          "name": "stderr"
        },
        {
          "output_type": "stream",
          "text": [
            "Vocabulary Length: 34851\n",
            "CPU times: user 2min 11s, sys: 705 ms, total: 2min 12s\n",
            "Wall time: 1min 12s\n"
          ],
          "name": "stdout"
        }
      ]
    },
    {
      "cell_type": "markdown",
      "metadata": {
        "id": "KqPoOogvAW8E"
      },
      "source": [
        "## Tokenize and Padding"
      ]
    },
    {
      "cell_type": "code",
      "metadata": {
        "id": "_tRoku-DAbvg"
      },
      "source": [
        "# Defining the model input length.\n",
        "input_length = 60\n",
        "\n",
        "from tensorflow.keras.preprocessing.text import Tokenizer\n",
        "from tensorflow.keras.preprocessing.sequence import pad_sequences"
      ],
      "execution_count": 16,
      "outputs": []
    },
    {
      "cell_type": "code",
      "metadata": {
        "colab": {
          "base_uri": "https://localhost:8080/"
        },
        "id": "dypfO4ZpAn5z",
        "outputId": "d180cf89-dfc2-4584-d905-117c4e3c93ee"
      },
      "source": [
        "tokenizer = Tokenizer(filters=\"\", lower=False, oov_token=\"<oov>\")\n",
        "tokenizer.fit_on_texts(X_data)\n",
        "\n",
        "vocab_length = len(tokenizer.word_index) + 1\n",
        "print(\"Tokenizer vocab length:\", vocab_length)"
      ],
      "execution_count": 17,
      "outputs": [
        {
          "output_type": "stream",
          "text": [
            "Tokenizer vocab length: 180233\n"
          ],
          "name": "stdout"
        }
      ]
    },
    {
      "cell_type": "code",
      "metadata": {
        "colab": {
          "base_uri": "https://localhost:8080/"
        },
        "id": "jrKjL4ATAuUB",
        "outputId": "f99d871e-1902-4c76-a655-f88a1432f3af"
      },
      "source": [
        "X_train = pad_sequences(tokenizer.texts_to_sequences(X_train), maxlen=input_length)\n",
        "X_test  = pad_sequences(tokenizer.texts_to_sequences(X_test) , maxlen=input_length)\n",
        "\n",
        "print(\"X_train.shape:\", X_train.shape)\n",
        "print(\"X_test.shape :\", X_test.shape)"
      ],
      "execution_count": 18,
      "outputs": [
        {
          "output_type": "stream",
          "text": [
            "X_train.shape: (760000, 60)\n",
            "X_test.shape : (40000, 60)\n"
          ],
          "name": "stdout"
        }
      ]
    },
    {
      "cell_type": "markdown",
      "metadata": {
        "id": "fch7frjqBE76"
      },
      "source": [
        "## Create Embedding matrix"
      ]
    },
    {
      "cell_type": "code",
      "metadata": {
        "colab": {
          "base_uri": "https://localhost:8080/"
        },
        "id": "H6bDGqwfBHEe",
        "outputId": "225ac270-efaf-4482-e5c8-7a881c1e281e"
      },
      "source": [
        "embedding_matrix = np.zeros((vocab_length, Embedding_dimensions))\n",
        "\n",
        "for word, token in tokenizer.word_index.items():\n",
        "    if word2vec_model.wv.__contains__(word):\n",
        "        embedding_matrix[token] = word2vec_model.wv.__getitem__(word)\n",
        "\n",
        "print(\"Embedding Matrix Shape:\", embedding_matrix.shape)"
      ],
      "execution_count": 19,
      "outputs": [
        {
          "output_type": "stream",
          "text": [
            "Embedding Matrix Shape: (180233, 100)\n"
          ],
          "name": "stdout"
        }
      ]
    },
    {
      "cell_type": "markdown",
      "metadata": {
        "id": "ht03jxxNBiJf"
      },
      "source": [
        "## Create Model"
      ]
    },
    {
      "cell_type": "code",
      "metadata": {
        "id": "gv7aNAKYBNNb"
      },
      "source": [
        "from tensorflow.keras import Sequential\n",
        "from tensorflow.keras.layers import Bidirectional, GlobalMaxPool1D, Dense, LSTM, Conv1D, Embedding"
      ],
      "execution_count": 20,
      "outputs": []
    },
    {
      "cell_type": "code",
      "metadata": {
        "id": "xFP-uC-tBnQx"
      },
      "source": [
        "def getModel():\n",
        "    embedding_layer = Embedding(input_dim = vocab_length, \n",
        "                                output_dim = Embedding_dimensions,\n",
        "                                weights=[embedding_matrix], \n",
        "                                input_length=input_length,\n",
        "                                trainable=False)\n",
        "\n",
        "    model = Sequential([\n",
        "        embedding_layer,\n",
        "        Bidirectional(LSTM(100, dropout=0.3, return_sequences=True)),\n",
        "        Bidirectional(LSTM(100, dropout=0.3, return_sequences=True)),\n",
        "        Conv1D(100, 5, activation='relu'),\n",
        "        GlobalMaxPool1D(),\n",
        "        Dense(16, activation='relu'),\n",
        "        Dense(1, activation='sigmoid'),\n",
        "    ],\n",
        "    name=\"Sentiment_Model\")\n",
        "    return model"
      ],
      "execution_count": 21,
      "outputs": []
    },
    {
      "cell_type": "code",
      "metadata": {
        "colab": {
          "base_uri": "https://localhost:8080/"
        },
        "id": "jgFjv3BdBrjG",
        "outputId": "26e0dd6a-0782-4637-f013-890df571cac5"
      },
      "source": [
        "training_model = getModel()\n",
        "training_model.summary()"
      ],
      "execution_count": 22,
      "outputs": [
        {
          "output_type": "stream",
          "text": [
            "Model: \"Sentiment_Model\"\n",
            "_________________________________________________________________\n",
            "Layer (type)                 Output Shape              Param #   \n",
            "=================================================================\n",
            "embedding (Embedding)        (None, 60, 100)           18023300  \n",
            "_________________________________________________________________\n",
            "bidirectional (Bidirectional (None, 60, 200)           160800    \n",
            "_________________________________________________________________\n",
            "bidirectional_1 (Bidirection (None, 60, 200)           240800    \n",
            "_________________________________________________________________\n",
            "conv1d (Conv1D)              (None, 56, 100)           100100    \n",
            "_________________________________________________________________\n",
            "global_max_pooling1d (Global (None, 100)               0         \n",
            "_________________________________________________________________\n",
            "dense (Dense)                (None, 16)                1616      \n",
            "_________________________________________________________________\n",
            "dense_1 (Dense)              (None, 1)                 17        \n",
            "=================================================================\n",
            "Total params: 18,526,633\n",
            "Trainable params: 503,333\n",
            "Non-trainable params: 18,023,300\n",
            "_________________________________________________________________\n"
          ],
          "name": "stdout"
        }
      ]
    },
    {
      "cell_type": "markdown",
      "metadata": {
        "id": "lZRwz_WWB0qj"
      },
      "source": [
        "### Callbacks and Earlystop"
      ]
    },
    {
      "cell_type": "code",
      "metadata": {
        "id": "-BvOUap2BupU"
      },
      "source": [
        "from tensorflow.keras.callbacks import ReduceLROnPlateau, EarlyStopping\n",
        "\n",
        "callbacks = [ReduceLROnPlateau(monitor='val_loss', patience=5, cooldown=0),\n",
        "             EarlyStopping(monitor='val_accuracy', min_delta=1e-4, patience=5)]"
      ],
      "execution_count": 23,
      "outputs": []
    },
    {
      "cell_type": "markdown",
      "metadata": {
        "id": "kHwi7RYQB-Rm"
      },
      "source": [
        "### Compile"
      ]
    },
    {
      "cell_type": "code",
      "metadata": {
        "id": "qnETZjXAB5_4"
      },
      "source": [
        "training_model.compile(loss='binary_crossentropy', optimizer='adam', metrics=['accuracy'])"
      ],
      "execution_count": 24,
      "outputs": []
    },
    {
      "cell_type": "markdown",
      "metadata": {
        "id": "x7nHeX9OCMqK"
      },
      "source": [
        "## Train"
      ]
    },
    {
      "cell_type": "code",
      "metadata": {
        "colab": {
          "base_uri": "https://localhost:8080/"
        },
        "id": "SIozAYLzCA0B",
        "outputId": "7f477e43-ac60-4f5f-fbae-1ce37f80ea61"
      },
      "source": [
        "history = training_model.fit(\n",
        "    X_train, y_train,\n",
        "    batch_size=1024,\n",
        "    epochs=12,\n",
        "    validation_split=0.1,\n",
        "    callbacks=callbacks,\n",
        "    verbose=1,\n",
        ")"
      ],
      "execution_count": 25,
      "outputs": [
        {
          "output_type": "stream",
          "text": [
            "Epoch 1/12\n",
            "668/668 [==============================] - 80s 120ms/step - loss: 0.4551 - accuracy: 0.7837 - val_loss: 0.4185 - val_accuracy: 0.8073\n",
            "Epoch 2/12\n",
            "668/668 [==============================] - 82s 122ms/step - loss: 0.4165 - accuracy: 0.8067 - val_loss: 0.3943 - val_accuracy: 0.8190\n",
            "Epoch 3/12\n",
            "668/668 [==============================] - 84s 125ms/step - loss: 0.4025 - accuracy: 0.8150 - val_loss: 0.3864 - val_accuracy: 0.8244\n",
            "Epoch 4/12\n",
            "668/668 [==============================] - 84s 126ms/step - loss: 0.3936 - accuracy: 0.8201 - val_loss: 0.3812 - val_accuracy: 0.8283\n",
            "Epoch 5/12\n",
            "668/668 [==============================] - 84s 126ms/step - loss: 0.3873 - accuracy: 0.8233 - val_loss: 0.3770 - val_accuracy: 0.8308\n",
            "Epoch 6/12\n",
            "668/668 [==============================] - 84s 126ms/step - loss: 0.3819 - accuracy: 0.8259 - val_loss: 0.3754 - val_accuracy: 0.8322\n",
            "Epoch 7/12\n",
            "668/668 [==============================] - 84s 126ms/step - loss: 0.3779 - accuracy: 0.8285 - val_loss: 0.3755 - val_accuracy: 0.8323\n",
            "Epoch 8/12\n",
            "668/668 [==============================] - 84s 126ms/step - loss: 0.3738 - accuracy: 0.8305 - val_loss: 0.3719 - val_accuracy: 0.8338\n",
            "Epoch 9/12\n",
            "668/668 [==============================] - 84s 126ms/step - loss: 0.3703 - accuracy: 0.8327 - val_loss: 0.3700 - val_accuracy: 0.8345\n",
            "Epoch 10/12\n",
            "668/668 [==============================] - 84s 126ms/step - loss: 0.3666 - accuracy: 0.8350 - val_loss: 0.3679 - val_accuracy: 0.8358\n",
            "Epoch 11/12\n",
            "668/668 [==============================] - 84s 126ms/step - loss: 0.3640 - accuracy: 0.8359 - val_loss: 0.3693 - val_accuracy: 0.8355\n",
            "Epoch 12/12\n",
            "668/668 [==============================] - 84s 126ms/step - loss: 0.3613 - accuracy: 0.8374 - val_loss: 0.3676 - val_accuracy: 0.8364\n"
          ],
          "name": "stdout"
        }
      ]
    },
    {
      "cell_type": "markdown",
      "metadata": {
        "id": "i15rRCC1GvNj"
      },
      "source": [
        "## Evaluate the model"
      ]
    },
    {
      "cell_type": "code",
      "metadata": {
        "colab": {
          "base_uri": "https://localhost:8080/",
          "height": 545
        },
        "id": "6lIsAtUiCaM1",
        "outputId": "2cfe8a2e-a4e2-4ddc-8ec1-583b5786fb36"
      },
      "source": [
        "acc,  val_acc  = history.history['accuracy'], history.history['val_accuracy']\n",
        "loss, val_loss = history.history['loss'], history.history['val_loss']\n",
        "epochs = range(len(acc))\n",
        "\n",
        "plt.plot(epochs, acc, 'b', label='Training acc')\n",
        "plt.plot(epochs, val_acc, 'r', label='Validation acc')\n",
        "plt.title('Training and validation accuracy')\n",
        "plt.legend()\n",
        "plt.savefig(\"/content/gdrive/My Drive/Course/Colab Notebooks/training_process_acc.png\", dpi =300)\n",
        "\n",
        "plt.figure()\n",
        "\n",
        "plt.plot(epochs, loss, 'b', label='Training loss')\n",
        "plt.plot(epochs, val_loss, 'r', label='Validation loss')\n",
        "plt.title('Training and validation loss')\n",
        "plt.legend()\n",
        "\n",
        "\n",
        "\n",
        "plt.savefig(\"/content/gdrive/My Drive/Course/Colab Notebooks/training_process_loss.png\", dpi =300)\n",
        "plt.show()"
      ],
      "execution_count": 34,
      "outputs": [
        {
          "output_type": "display_data",
          "data": {
            "image/png": "[encoded data removed]",
            "text/plain": [
              "<Figure size 432x288 with 1 Axes>"
            ]
          },
          "metadata": {
            "tags": [],
            "needs_background": "light"
          }
        },
        {
          "output_type": "display_data",
          "data": {
            "image/png": "[encoded data removed]",
            "text/plain": [
              "<Figure size 432x288 with 1 Axes>"
            ]
          },
          "metadata": {
            "tags": [],
            "needs_background": "light"
          }
        }
      ]
    },
    {
      "cell_type": "markdown",
      "metadata": {
        "id": "bMyXXcEuG-Fm"
      },
      "source": [
        "## Confusion matrix"
      ]
    },
    {
      "cell_type": "code",
      "metadata": {
        "id": "FUM16jVqGyk2"
      },
      "source": [
        "from sklearn.metrics import confusion_matrix, classification_report\n",
        "# Plot libraries\n",
        "import seaborn as sns\n",
        "from wordcloud import WordCloud\n",
        "import matplotlib.pyplot as plt\n",
        "\n",
        "def ConfusionMatrix(y_pred, y_test):\n",
        "    # Compute and plot the Confusion matrix\n",
        "    cf_matrix = confusion_matrix(y_test, y_pred)\n",
        "\n",
        "    categories  = ['Negative','Positive']\n",
        "    group_names = ['True Neg','False Pos', 'False Neg','True Pos']\n",
        "    group_percentages = ['{0:.2%}'.format(value) for value in cf_matrix.flatten() / np.sum(cf_matrix)]\n",
        "\n",
        "    labels = [f'{v1}\\n{v2}' for v1, v2 in zip(group_names,group_percentages)]\n",
        "    labels = np.asarray(labels).reshape(2,2)\n",
        "\n",
        "    sns.heatmap(cf_matrix, annot = labels, cmap = 'Blues',fmt = '',\n",
        "                xticklabels = categories, yticklabels = categories)\n",
        "\n",
        "    plt.xlabel(\"Predicted values\", fontdict = {'size':14}, labelpad = 10)\n",
        "    plt.ylabel(\"Actual values\"   , fontdict = {'size':14}, labelpad = 10)\n",
        "    plt.title (\"Confusion Matrix\", fontdict = {'size':18}, pad = 20)\n",
        "    plt.savefig(\"/content/gdrive/My Drive/Course/Colab Notebooks/conf_matrix.png\", dpi =300)"
      ],
      "execution_count": 35,
      "outputs": []
    },
    {
      "cell_type": "code",
      "metadata": {
        "colab": {
          "base_uri": "https://localhost:8080/",
          "height": 323
        },
        "id": "QKQ5D1oJHA6m",
        "outputId": "3bbb80b0-d8e2-4c94-cbea-5a58fffce1c0"
      },
      "source": [
        "# Predicting on the Test dataset.\n",
        "y_pred = training_model.predict(X_test)\n",
        "\n",
        "# Converting prediction to reflect the sentiment predicted.\n",
        "y_pred = np.where(y_pred>=0.5, 1, 0)\n",
        "\n",
        "# Printing out the Evaluation metrics. \n",
        "ConfusionMatrix(y_pred, y_test)"
      ],
      "execution_count": 36,
      "outputs": [
        {
          "output_type": "display_data",
          "data": {
            "image/png": "[encoded data removed]",
            "text/plain": [
              "<Figure size 432x288 with 2 Axes>"
            ]
          },
          "metadata": {
            "tags": [],
            "needs_background": "light"
          }
        }
      ]
    },
    {
      "cell_type": "code",
      "metadata": {
        "colab": {
          "base_uri": "https://localhost:8080/"
        },
        "id": "iDE9EEBzLwv1",
        "outputId": "b985ac2a-ddad-47d0-d78f-ea237b2ba322"
      },
      "source": [
        "%%time\n",
        "# evaluate\n",
        "score = training_model.evaluate(X_test, y_test, batch_size=1024)\n",
        "print()\n",
        "print(\"ACCURACY:\",score[1])\n",
        "print(\"LOSS:\",score[0])"
      ],
      "execution_count": 42,
      "outputs": [
        {
          "output_type": "stream",
          "text": [
            "40/40 [==============================] - 2s 42ms/step - loss: 0.3724 - accuracy: 0.8328\n",
            "\n",
            "ACCURACY: 0.8328499794006348\n",
            "LOSS: 0.37242159247398376\n",
            "CPU times: user 706 ms, sys: 94.6 ms, total: 801 ms\n",
            "Wall time: 1.79 s\n"
          ],
          "name": "stdout"
        }
      ]
    },
    {
      "cell_type": "markdown",
      "metadata": {
        "id": "I_llUoXtJc31"
      },
      "source": [
        "## Saving the model"
      ]
    },
    {
      "cell_type": "code",
      "metadata": {
        "colab": {
          "base_uri": "https://localhost:8080/"
        },
        "id": "quQygaslHFSx",
        "outputId": "7dbd7842-ed35-48b9-f5fe-84ee50fc1255"
      },
      "source": [
        "word2vec_model.wv.save('/content/gdrive/My Drive/Course/Colab Notebooks/Word2Vec-twitter-100-dims.model')\n",
        "word2vec_model.wv.save_word2vec_format('/content/gdrive/My Drive/Course/Colab Notebooks/Word2Vec-twitter-100-dims-trainable.model')\n",
        "\n",
        "# Saving the tokenizer\n",
        "with open('Tokenizer.pickle', 'wb') as file:\n",
        "    pickle.dump(tokenizer, file)\n",
        "\n",
        "# Saving the BiLSTM-Model.\n",
        "training_model.save('/content/gdrive/My Drive/Course/Colab Notebooks/BiLSTM_gensim_0836_12epo.h5')"
      ],
      "execution_count": 37,
      "outputs": [
        {
          "output_type": "stream",
          "text": [
            "2020-12-02 11:14:39,828 : INFO : saving Word2VecKeyedVectors object under /content/gdrive/My Drive/Course/Colab Notebooks/Word2Vec-twitter-100-dims.model, separately None\n",
            "2020-12-02 11:14:39,830 : INFO : not storing attribute vectors_norm\n",
            "2020-12-02 11:14:40,082 : INFO : saved /content/gdrive/My Drive/Course/Colab Notebooks/Word2Vec-twitter-100-dims.model\n",
            "2020-12-02 11:14:40,083 : INFO : storing 34851x100 projection weights into /content/gdrive/My Drive/Course/Colab Notebooks/Word2Vec-twitter-100-dims-trainable.model\n"
          ],
          "name": "stderr"
        }
      ]
    },
    {
      "cell_type": "markdown",
      "metadata": {
        "id": "X_3FtqdtKx-B"
      },
      "source": [
        "## try predict"
      ]
    },
    {
      "cell_type": "code",
      "metadata": {
        "id": "pjLiUyj8KVOL"
      },
      "source": [
        "model = training_model\n",
        "def predict(text):\n",
        "    \n",
        "    # Tokenize text\n",
        "    x_test = pad_sequences(tokenizer.texts_to_sequences([text]), maxlen=60)\n",
        "    # Predict\n",
        "    score = model.predict([x_test])[0]\n",
        "    # Decode sentiment\n",
        "    #label = -1 if score < 0.5 else 1\n",
        "    out_score = round(float(score),4)\n",
        "\n",
        "    return out_score"
      ],
      "execution_count": 38,
      "outputs": []
    },
    {
      "cell_type": "code",
      "metadata": {
        "colab": {
          "base_uri": "https://localhost:8080/"
        },
        "id": "jwvBN1RqLRYp",
        "outputId": "07a29808-d5c3-481f-c511-51f416b26c1a"
      },
      "source": [
        "predict(\"I love u so much\")"
      ],
      "execution_count": 39,
      "outputs": [
        {
          "output_type": "execute_result",
          "data": {
            "text/plain": [
              "0.7858"
            ]
          },
          "metadata": {
            "tags": []
          },
          "execution_count": 39
        }
      ]
    },
    {
      "cell_type": "code",
      "metadata": {
        "colab": {
          "base_uri": "https://localhost:8080/"
        },
        "id": "-IRLfL3_LYlF",
        "outputId": "aa5cc5ee-7b92-450a-85da-a6fd56efef83"
      },
      "source": [
        "predict(\"I'm going under and this time I fear there's no one to save me\")"
      ],
      "execution_count": 41,
      "outputs": [
        {
          "output_type": "execute_result",
          "data": {
            "text/plain": [
              "0.0186"
            ]
          },
          "metadata": {
            "tags": []
          },
          "execution_count": 41
        }
      ]
    },
    {
      "cell_type": "code",
      "metadata": {
        "id": "m0TdTnw9Lgbh"
      },
      "source": [
        ""
      ],
      "execution_count": null,
      "outputs": []
    }
  ]
}